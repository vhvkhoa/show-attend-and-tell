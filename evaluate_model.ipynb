{
 "cells": [
  {
   "cell_type": "code",
   "execution_count": 1,
   "metadata": {},
   "outputs": [
    {
     "data": {
      "text/plain": [
       "'2.7.15 |Anaconda, Inc.| (default, May  1 2018, 23:32:55) \\n[GCC 7.2.0]'"
      ]
     },
     "execution_count": 1,
     "metadata": {},
     "output_type": "execute_result"
    }
   ],
   "source": [
    "import sys\n",
    "sys.version"
   ]
  },
  {
   "cell_type": "code",
   "execution_count": 2,
   "metadata": {},
   "outputs": [],
   "source": [
    "import matplotlib.pyplot as plt\n",
    "import tensorflow as tf\n",
    "import cPickle as pickle\n",
    "from core.solver import CaptioningSolver\n",
    "from core.model import CaptionGenerator\n",
    "from core.utils import load_coco_data\n",
    "from core.bleu import evaluate\n",
    "\n",
    "%matplotlib inline\n",
    "plt.rcParams['figure.figsize'] = (8.0, 6.0)  # set default size of plots\n",
    "plt.rcParams['image.interpolation'] = 'nearest'\n",
    "plt.rcParams['image.cmap'] = 'gray'\n",
    "\n",
    "%load_ext autoreload\n",
    "%autoreload 2"
   ]
  },
  {
   "cell_type": "code",
   "execution_count": 3,
   "metadata": {
    "scrolled": true
   },
   "outputs": [
    {
     "name": "stdout",
     "output_type": "stream",
     "text": [
      "Loaded data/val/val.annotations.pkl..\n",
      "features_path <type 'str'> 14\n",
      "image_id <type 'numpy.ndarray'> (5000,) object\n",
      "file_name <type 'numpy.ndarray'> (5000,) object\n",
      "n_examples <type 'int'> 5000\n",
      "tags <type 'numpy.ndarray'> (5000, 15) int32\n",
      "Elapse time: 0.15\n"
     ]
    },
    {
     "name": "stderr",
     "output_type": "stream",
     "text": [
      "core/utils.py:30: FutureWarning: Method .as_matrix will be removed in a future version. Use .values instead.\n",
      "  data['image_id'] = annotations['image_id'].as_matrix()\n",
      "core/utils.py:31: FutureWarning: Method .as_matrix will be removed in a future version. Use .values instead.\n",
      "  data['file_name'] = annotations['file_name'].as_matrix()\n"
     ]
    }
   ],
   "source": [
    "data = load_coco_data(data_path='data/', split='val')\n",
    "with open('./data/train/word_to_idx.pkl', 'rb') as f:\n",
    "    word_to_idx = pickle.load(f)"
   ]
  },
  {
   "cell_type": "code",
   "execution_count": 4,
   "metadata": {},
   "outputs": [],
   "source": [
    "model = CaptionGenerator(word_to_idx, dim_feature=[196, 1024], dim_embed=512,\n",
    "                                   dim_hidden=1536, n_time_step=31, prev2out=True, \n",
    "                                             ctx2out=True, alpha_c=1.0, selector=True, dropout=True)"
   ]
  },
  {
   "cell_type": "code",
   "execution_count": 5,
   "metadata": {},
   "outputs": [],
   "source": [
    "solver = CaptioningSolver(model, data, data, n_epochs=20, batch_size=128, update_rule='adam',\n",
    "                                      learning_rate=0.001, image_path='./image/val2017_resized',\n",
    "                                pretrained_model=None, model_path='./model/lstm', test_model='./model_33000-33000',\n",
    "                                 print_bleu=False, log_path='./log/')"
   ]
  },
  {
   "cell_type": "code",
   "execution_count": 6,
   "metadata": {
    "scrolled": true
   },
   "outputs": [
    {
     "name": "stdout",
     "output_type": "stream",
     "text": [
      "INFO:tensorflow:Restoring parameters from ./model_33000-33000\n"
     ]
    },
    {
     "name": "stderr",
     "output_type": "stream",
     "text": [
      "100%|██████████| 40/40 [01:27<00:00,  2.19s/it]"
     ]
    },
    {
     "name": "stdout",
     "output_type": "stream",
     "text": [
      "Saved ./data/val/val.candidate.captions.json..\n"
     ]
    },
    {
     "name": "stderr",
     "output_type": "stream",
     "text": [
      "\n"
     ]
    }
   ],
   "source": [
    "solver.test(data, split='val', beam_size=3, attention_visualization=False)"
   ]
  },
  {
   "cell_type": "code",
   "execution_count": null,
   "metadata": {},
   "outputs": [],
   "source": [
    "test = load_coco_data(data_path='./data', split='test')"
   ]
  },
  {
   "cell_type": "code",
   "execution_count": null,
   "metadata": {
    "scrolled": true
   },
   "outputs": [],
   "source": [
    "tf.get_variable_scope().reuse_variables()\n",
    "solver.test(test, split='test', beam_size=6)"
   ]
  },
  {
   "cell_type": "code",
   "execution_count": null,
   "metadata": {
    "scrolled": true
   },
   "outputs": [],
   "source": [
    "evaluate(data_path='./data', split='val')"
   ]
  },
  {
   "cell_type": "code",
   "execution_count": null,
   "metadata": {},
   "outputs": [],
   "source": [
    "evaluate(data_path='./data', split='test')"
   ]
  },
  {
   "cell_type": "code",
   "execution_count": null,
   "metadata": {},
   "outputs": [],
   "source": []
  }
 ],
 "metadata": {
  "anaconda-cloud": {},
  "kernelspec": {
   "display_name": "Python 3",
   "language": "python",
   "name": "python3"
  },
  "language_info": {
   "codemirror_mode": {
    "name": "ipython",
    "version": 3
   },
   "file_extension": ".py",
   "mimetype": "text/x-python",
   "name": "python",
   "nbconvert_exporter": "python",
   "pygments_lexer": "ipython3",
   "version": "3.7.0"
  }
 },
 "nbformat": 4,
 "nbformat_minor": 1
}
